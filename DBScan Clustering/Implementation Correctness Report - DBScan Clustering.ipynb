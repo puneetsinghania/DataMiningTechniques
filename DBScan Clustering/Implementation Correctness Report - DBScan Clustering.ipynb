{
 "cells": [
  {
   "cell_type": "markdown",
   "id": "95c06fcb",
   "metadata": {},
   "source": [
    "# Implementation Correctness Report - DBScan Clustering"
   ]
  },
  {
   "cell_type": "code",
   "execution_count": 1,
   "id": "e09a73bb",
   "metadata": {},
   "outputs": [],
   "source": [
    "#import statements\n",
    "import pandas as pd\n",
    "import numpy as np\n",
    "import math\n",
    "import random\n",
    "\n",
    "from sklearn import preprocessing\n",
    "from sklearn.neighbors import NearestNeighbors\n",
    "from sklearn.metrics import silhouette_score, normalized_mutual_info_score\n",
    "from sklearn.linear_model import Lasso\n",
    "\n",
    "import matplotlib.pyplot as plt\n",
    "import matplotlib.pyplot as plt2"
   ]
  },
  {
   "cell_type": "code",
   "execution_count": 2,
   "id": "876964ad",
   "metadata": {},
   "outputs": [],
   "source": [
    "#Load dataset from csv file\n",
    "df = pd.read_csv('../implementation_correctness_dataset.csv')\n",
    "X = df[['Feature 1', 'Feature 2']].values\n",
    "y = df['Class/Cluster'].values"
   ]
  },
  {
   "cell_type": "code",
   "execution_count": 3,
   "id": "27881992",
   "metadata": {},
   "outputs": [
    {
     "data": {
      "text/html": [
       "<div>\n",
       "<style scoped>\n",
       "    .dataframe tbody tr th:only-of-type {\n",
       "        vertical-align: middle;\n",
       "    }\n",
       "\n",
       "    .dataframe tbody tr th {\n",
       "        vertical-align: top;\n",
       "    }\n",
       "\n",
       "    .dataframe thead th {\n",
       "        text-align: right;\n",
       "    }\n",
       "</style>\n",
       "<table border=\"1\" class=\"dataframe\">\n",
       "  <thead>\n",
       "    <tr style=\"text-align: right;\">\n",
       "      <th></th>\n",
       "      <th>Feature 1</th>\n",
       "      <th>Feature 2</th>\n",
       "      <th>Class/Cluster</th>\n",
       "    </tr>\n",
       "  </thead>\n",
       "  <tbody>\n",
       "    <tr>\n",
       "      <th>0</th>\n",
       "      <td>0.020</td>\n",
       "      <td>0.0</td>\n",
       "      <td>1</td>\n",
       "    </tr>\n",
       "    <tr>\n",
       "      <th>1</th>\n",
       "      <td>1.045</td>\n",
       "      <td>0.0</td>\n",
       "      <td>1</td>\n",
       "    </tr>\n",
       "    <tr>\n",
       "      <th>2</th>\n",
       "      <td>2.080</td>\n",
       "      <td>0.0</td>\n",
       "      <td>1</td>\n",
       "    </tr>\n",
       "    <tr>\n",
       "      <th>3</th>\n",
       "      <td>3.125</td>\n",
       "      <td>0.0</td>\n",
       "      <td>1</td>\n",
       "    </tr>\n",
       "    <tr>\n",
       "      <th>4</th>\n",
       "      <td>4.180</td>\n",
       "      <td>0.0</td>\n",
       "      <td>1</td>\n",
       "    </tr>\n",
       "  </tbody>\n",
       "</table>\n",
       "</div>"
      ],
      "text/plain": [
       "   Feature 1  Feature 2  Class/Cluster\n",
       "0      0.020        0.0              1\n",
       "1      1.045        0.0              1\n",
       "2      2.080        0.0              1\n",
       "3      3.125        0.0              1\n",
       "4      4.180        0.0              1"
      ]
     },
     "execution_count": 3,
     "metadata": {},
     "output_type": "execute_result"
    }
   ],
   "source": [
    "df.head()"
   ]
  },
  {
   "cell_type": "markdown",
   "id": "57ed928f",
   "metadata": {},
   "source": [
    "# DBScan Clustering algorithm - Scratch Implementation"
   ]
  },
  {
   "cell_type": "code",
   "execution_count": 4,
   "id": "5e9093cf",
   "metadata": {},
   "outputs": [],
   "source": [
    "#isInsideCircle() Function : Calculates the euclidean distance between two points.\n",
    "def isInsideCircle(center_x, center_y, radius, x, y):\n",
    "    dist = math.sqrt((x - center_x)**2 + (y - center_y)**2)\n",
    "    if dist <= radius:\n",
    "        return True\n",
    "    else:\n",
    "        return False\n",
    "\n",
    "l = [9, 13, 14, 16]\n",
    "\n",
    "#corePoints() Function : Identifies the core and non-core points in the dataset. \n",
    "def corePoints(X, eps, min_samples):\n",
    "    corePointsList = []\n",
    "    nonCorePointsList = []\n",
    "    for i in range(0, len(X)):\n",
    "        count = 0\n",
    "        for j in range(0, len(X)):\n",
    "            if(isInsideCircle(X[i][0], X[i][1], eps, X[j][0], X[j][1])):\n",
    "                count+=1\n",
    "            if(count>=min_samples):\n",
    "                temp = list(X[i])\n",
    "                temp.append(i)\n",
    "                corePointsList.append(np.array(temp))\n",
    "                break\n",
    "        if(count < min_samples):\n",
    "            np.append(X[i], i)\n",
    "            nonCorePointsList.append(X[i])\n",
    "    return corePointsList, nonCorePointsList\n",
    "\n",
    "non_core_point = l\n",
    "core_point = l\n",
    "\n",
    "\n",
    "#dbscanfromscratch() Function : Performs the actual DBScan Clustering Algorithm returning the clusters. \n",
    "def dbscanfromscratch(X, eps, min_samples):  \n",
    "    order = []\n",
    "    core_points, non_core_points = corePoints(X, eps, min_samples)\n",
    "    d = {}\n",
    "    clusterNumber = 0\n",
    "    while(clusterNumber < 2):\n",
    "        index = random.randint(0, len(core_points)-1)\n",
    "        d[clusterNumber] = []\n",
    "        d[clusterNumber].append(list((core_points[index])))\n",
    "        temp_order = [core_points[index][2], 'core']\n",
    "        order.append(temp_order)\n",
    "        center = core_points.pop(index)\n",
    "        queue = []\n",
    "        core_points_dup = core_points.copy()\n",
    "        offset = 0\n",
    "        for i in range(0, len(core_points_dup)):\n",
    "            if(isInsideCircle(center[0], center[1], eps, core_points_dup[i][0], core_points_dup[i][1])):\n",
    "                d[clusterNumber].append(list(core_points_dup[i]))\n",
    "                temp_order = [core_points_dup[i][2], 'core']\n",
    "                order.append(temp_order)\n",
    "                queue.append(core_points.pop(i-offset))\n",
    "                offset += 1\n",
    "        k = 0\n",
    "        while(queue and k < 569):\n",
    "            center =  queue.pop(0)\n",
    "            core_points_dup = core_points.copy()\n",
    "            offset = 0\n",
    "            for i in range(0, len(core_points_dup)):\n",
    "                if(isInsideCircle(center[0], center[1], eps, core_points_dup[i][0], core_points_dup[i][1])):\n",
    "                    d[clusterNumber].append(list(core_points_dup[i]))\n",
    "                    temp_order = [core_points_dup[i][2], 'core']\n",
    "                    order.append(temp_order)\n",
    "                    queue.append(core_points.pop(i-offset))\n",
    "                    offset += 1\n",
    "            k+=1\n",
    "        non_core_points_dup = non_core_points.copy()\n",
    "        offset = 0\n",
    "        for i in d[clusterNumber]:\n",
    "            center = i\n",
    "            for j in range(0, len(non_core_points_dup)):  \n",
    "                if(isInsideCircle(center[0], center[1], eps, non_core_points_dup[j][0], non_core_points_dup[j][1])):\n",
    "                    d[clusterNumber].append(list(non_core_points_dup[j]))\n",
    "                    temp_order = [non_core_points_dup[i][2], 'non-core']\n",
    "                    order.append(temp_order)\n",
    "                    if(j-offset >= 0 and j-offset < len(non_core_points)):\n",
    "                        non_core_points.pop(j-offset)\n",
    "                        offset += 1\n",
    "        clusterNumber += 1\n",
    "    dbs_pred = []\n",
    "    for i in range(0, len(X)):\n",
    "        dbs_pred.append(1)\n",
    "    for i in d.get(1):\n",
    "        dbs_pred[int(i[2])] = 2\n",
    "    return dbs_pred, order    "
   ]
  },
  {
   "cell_type": "code",
   "execution_count": 5,
   "id": "8152fe3d",
   "metadata": {},
   "outputs": [
    {
     "name": "stdout",
     "output_type": "stream",
     "text": [
      "Original Value: [1 1 1 1 1 1 1 1 1 1 1 1 1 1 2 2 2]\n",
      "Predicted Values: [1, 1, 1, 1, 1, 1, 1, 1, 1, 1, 1, 1, 1, 1, 2, 2, 2]\n",
      "Silhouette Score: -0.029728807189886384\n",
      "NMI Score: 1.0\n"
     ]
    }
   ],
   "source": [
    "#Defining parameters for the DBScan clustering algorithm with the given epsilon and min_samples values.\n",
    "eps = 1.25\n",
    "min_samples = 2\n",
    "\n",
    "#DBScan Function call.\n",
    "dbs_pred, order = dbscanfromscratch(X, eps, min_samples)\n",
    "\n",
    "print(\"Original Value:\", y)\n",
    "print(\"Predicted Values:\", dbs_pred)\n",
    "print(\"Silhouette Score:\", silhouette_score(X, dbs_pred))\n",
    "print(\"NMI Score:\", normalized_mutual_info_score(y, dbs_pred))"
   ]
  },
  {
   "cell_type": "code",
   "execution_count": 6,
   "id": "90910679",
   "metadata": {
    "scrolled": true
   },
   "outputs": [
    {
     "data": {
      "text/plain": [
       "Text(0.5, 1.0, 'My DBScan Clusters Plot')"
      ]
     },
     "execution_count": 6,
     "metadata": {},
     "output_type": "execute_result"
    },
    {
     "data": {
      "image/png": "[encoded data removed]",
      "text/plain": [
       "<Figure size 432x288 with 2 Axes>"
      ]
     },
     "metadata": {
      "needs_background": "light"
     },
     "output_type": "display_data"
    }
   ],
   "source": [
    "#Labeled scatter plot\n",
    "f, (ax1,ax2) = plt.subplots(1, 2)\n",
    "\n",
    "#Scatter plot of the dataset with an integer on top of each point showing the order visited by the algorithm.\n",
    "ax1.scatter(X[:,0],X[:,1], facecolors='green', edgecolor = \"black\", alpha=0.35)\n",
    "for i, txt in enumerate(order):\n",
    "    ax1.annotate(int(txt[0]), (X[i][0], X[i][1]))\n",
    "ax1.set_title('My DBScan Points visited order')\n",
    "\n",
    "#Using different colors for points belonging to different clusters as obtained by DBScan.\n",
    "ax2.scatter(X[:,0],X[:,1],  c = dbs_pred, cmap = \"jet\", edgecolor = \"None\", alpha=0.35)\n",
    "ax2.set_title('My DBScan Clusters Plot')"
   ]
  },
  {
   "cell_type": "code",
   "execution_count": 7,
   "id": "22b8a6c1",
   "metadata": {},
   "outputs": [
    {
     "data": {
      "image/png": "[encoded data removed]",
      "text/plain": [
       "<Figure size 432x288 with 1 Axes>"
      ]
     },
     "metadata": {
      "needs_background": "light"
     },
     "output_type": "display_data"
    }
   ],
   "source": [
    "#Denoting the core points with filled circles and non-core points with empty circles.\n",
    "filled = []\n",
    "for i in range(0, len(X)):\n",
    "    if i in non_core_point:\n",
    "        filled.append(False)\n",
    "    else:\n",
    "        filled.append(True)\n",
    "plt.scatter(X[:,0], X[:,1], s=80, facecolors=['none' if not h else 'red' for h in filled], edgecolor='black')\n",
    "plt.show()"
   ]
  }
 ],
 "metadata": {
  "kernelspec": {
   "display_name": "Python 3 (ipykernel)",
   "language": "python",
   "name": "python3"
  },
  "language_info": {
   "codemirror_mode": {
    "name": "ipython",
    "version": 3
   },
   "file_extension": ".py",
   "mimetype": "text/x-python",
   "name": "python",
   "nbconvert_exporter": "python",
   "pygments_lexer": "ipython3",
   "version": "3.9.12"
  }
 },
 "nbformat": 4,
 "nbformat_minor": 5
}
